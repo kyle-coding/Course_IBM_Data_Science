{
    "cells": [
        {
            "metadata": {
                "collapsed": true
            },
            "cell_type": "markdown",
            "source": "# My Jupyter Notebook on IBM Watson Studio"
        },
        {
            "metadata": {},
            "cell_type": "markdown",
            "source": "**Made by Kyle**\n\nCurrently a Manufacturing Engineer"
        },
        {
            "metadata": {},
            "cell_type": "markdown",
            "source": "_I am interested in Data Science because..._\n\n_I have always had a fascination with seeing raw data transformed into something useful and actionable. In my current job, I do this on a small scale. I might measure the position of a motor, or the outputs of a PLC, to determine the root cause of a problem. But I've never known how to work with larger and more complex datasets, and I would like to learn._\n"
        },
        {
            "metadata": {},
            "cell_type": "markdown",
            "source": "### The next cell will find the number of hours in a year by multiplying 365 by 24"
        },
        {
            "metadata": {},
            "cell_type": "code",
            "source": "365*24",
            "execution_count": 1,
            "outputs": [
                {
                    "output_type": "execute_result",
                    "execution_count": 1,
                    "data": {
                        "text/plain": "8760"
                    },
                    "metadata": {}
                }
            ]
        },
        {
            "metadata": {},
            "cell_type": "markdown",
            "source": "* This\n* Is a\n* Bulleted List\n---\n1. This\n2. Is a\n3. Numbered List\n---\nThis | Is\n:---: | :---:\nA great | Table\n\n---\n\n[This is a link](https://www.google.com)\n"
        }
    ],
    "metadata": {
        "kernelspec": {
            "name": "python3",
            "display_name": "Python 3.6",
            "language": "python"
        },
        "language_info": {
            "name": "python",
            "version": "3.6.9",
            "mimetype": "text/x-python",
            "codemirror_mode": {
                "name": "ipython",
                "version": 3
            },
            "pygments_lexer": "ipython3",
            "nbconvert_exporter": "python",
            "file_extension": ".py"
        }
    },
    "nbformat": 4,
    "nbformat_minor": 1
}